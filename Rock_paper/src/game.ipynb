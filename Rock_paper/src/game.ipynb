{
 "cells": [
  {
   "cell_type": "markdown",
   "metadata": {},
   "source": [
    "### Rock Paper Scissors\n",
    "\n",
    "- Get user choice\n",
    "- Get computer choice\n",
    "- Compare choices\n",
    "- Return winner\n",
    "- Play again?"
   ]
  },
  {
   "cell_type": "code",
   "execution_count": 13,
   "metadata": {},
   "outputs": [
    {
     "name": "stdout",
     "output_type": "stream",
     "text": [
      "Oh no! the computer win the game :)))\n",
      "Your choice was rock and computer choice was paper\n",
      "********************\n",
      "Thank you for playing!\n"
     ]
    }
   ],
   "source": [
    "import random\n",
    "\n",
    "class RockPaperScissors:\n",
    "    def __init__(self,name):\n",
    "        self.choice = ['rock','paper','scissors']\n",
    "        self.name = name\n",
    "        \n",
    "    def get_player_choice(self):\n",
    "        player_choice = input(f\"Enter your choice dear {self.name} : \")\n",
    "        if player_choice.lower() in self.choice:\n",
    "            return player_choice\n",
    "        else:\n",
    "            print(f\"Invalid choice! options include {self.choice} \")\n",
    "            check = input(\"Do you want to try again? (y/n) : \")\n",
    "            if check.lower() in ['y','yes']:\n",
    "                return self.get_player_choice()\n",
    "            else:\n",
    "                print(\"Thank you for playing!\")\n",
    "\n",
    "    \n",
    "    def get_computer_choice(self):\n",
    "         return random.choice(self.choice)\n",
    "    \n",
    "    def get_winner(self,player_choice,computer_choice):\n",
    "        if player_choice == computer_choice:\n",
    "            return \"It's tie!\"\n",
    "        \n",
    "        win_combinations = [('rock','scissors'),('paper','rock'),('scissors','paper')]\n",
    "        for win_combin in win_combinations:\n",
    "            if player_choice == win_combin[0] and computer_choice == win_combin[1]:\n",
    "                return f\"Congrats! You won! {player_choice} beats {computer_choice}\"\n",
    "        return \"Oh no! the computer win the game :)))\"\n",
    "    \n",
    "    def play(self):\n",
    "        user_choice = self.get_player_choice()\n",
    "        computer = self.get_computer_choice()\n",
    "        winner = self.get_winner(user_choice,computer)\n",
    "        print(winner)\n",
    "        print(f\"Your choice was {user_choice} and computer choice was {computer}\")\n",
    "        repeat = input(\"Do you wanna play again? (y/n) : \")\n",
    "        if repeat in ['y','yes']:\n",
    "            self.play()\n",
    "        else:\n",
    "            print()\n",
    "            print('*'*22)\n",
    "            print(\"Thank you for playing!\")\n",
    "        \n",
    "player1 = RockPaperScissors('arash')\n",
    "player1.play()"
   ]
  },
  {
   "cell_type": "code",
   "execution_count": null,
   "metadata": {},
   "outputs": [],
   "source": []
  },
  {
   "cell_type": "code",
   "execution_count": null,
   "metadata": {},
   "outputs": [],
   "source": []
  }
 ],
 "metadata": {
  "kernelspec": {
   "display_name": "Python 3",
   "language": "python",
   "name": "python3"
  },
  "language_info": {
   "codemirror_mode": {
    "name": "ipython",
    "version": 3
   },
   "file_extension": ".py",
   "mimetype": "text/x-python",
   "name": "python",
   "nbconvert_exporter": "python",
   "pygments_lexer": "ipython3",
   "version": "3.10.13"
  }
 },
 "nbformat": 4,
 "nbformat_minor": 2
}
