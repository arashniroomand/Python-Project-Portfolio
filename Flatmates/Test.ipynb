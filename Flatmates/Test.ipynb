{
 "cells": [
  {
   "cell_type": "code",
   "execution_count": 1,
   "id": "aa16e03e",
   "metadata": {},
   "outputs": [],
   "source": [
    "class Bill:\n",
    "    \"\"\"\n",
    "    Object that contains data about a bill\n",
    "    \"\"\"\n",
    "    def __init__(self, amount, period):\n",
    "        self.amount = amount\n",
    "        self.period = period"
   ]
  },
  {
   "cell_type": "code",
   "execution_count": 19,
   "id": "fac0ac38",
   "metadata": {},
   "outputs": [],
   "source": [
    "class Flatmate:\n",
    "    \"\"\"\n",
    "    Creates a flatmate person who lives in a flat\n",
    "    and pays a share of the bill\n",
    "    \"\"\"\n",
    "    def __init__(self, name, days_in_house):\n",
    "        self.name = name\n",
    "        self.days_in_house = days_in_house\n",
    "        \n",
    "    def pays(self, bill, flatmate2):\n",
    "        weight = self.days_in_house / (self.days_in_house + flatmate2.days_in_house)\n",
    "        to_pay = bill.amount * weight\n",
    "        return to_pay\n",
    "    \n",
    "    "
   ]
  },
  {
   "cell_type": "code",
   "execution_count": 14,
   "id": "7a73df2c",
   "metadata": {},
   "outputs": [],
   "source": [
    "class PdfReport:\n",
    "    \"\"\"\n",
    "    Creates a pdf file that write a report of the deal\n",
    "    \"\"\"\n",
    "    \n",
    "    def __init(self, filename):\n",
    "        self.filename = filename\n",
    "        \n",
    "    def generate(self, flatmate1, flatmate2, bill):\n",
    "        pass"
   ]
  },
  {
   "cell_type": "code",
   "execution_count": 21,
   "id": "eb99bb9d",
   "metadata": {},
   "outputs": [
    {
     "name": "stdout",
     "output_type": "stream",
     "text": [
      "arash pays:  66.66666666666667\n",
      "shiva pays:  53.33333333333333\n"
     ]
    }
   ],
   "source": [
    "bill = Bill(120, 'March 21')\n",
    "person1 = Flatmate(\"arash\", 25)\n",
    "person2 = Flatmate(\"shiva\", 20)\n",
    "print(f\"{person1.name} pays: \", person1.pays(bill, person2))\n",
    "print(f\"{person2.name} pays: \", person2.pays(bill, person1))\n",
    "\n",
    "\n"
   ]
  },
  {
   "cell_type": "markdown",
   "id": "c26a8ce4",
   "metadata": {},
   "source": [
    "PDF REPORT"
   ]
  },
  {
   "cell_type": "code",
   "execution_count": 24,
   "id": "fe08bc7f",
   "metadata": {},
   "outputs": [
    {
     "data": {
      "text/plain": [
       "''"
      ]
     },
     "execution_count": 24,
     "metadata": {},
     "output_type": "execute_result"
    }
   ],
   "source": [
    "from fpdf import FPDF\n",
    "\n",
    "pdf = FPDF(orientation = 'P', unit = 'pt', format = 'A5')\n",
    "pdf.add_page()\n",
    "\n",
    "\n",
    "pdf.set_font(family = 'Times', size = 24, style = 'B')\n",
    "pdf.cell(w = 0, h = 80, txt = \"Flatmates Bll\", border = 1, align = \"C\", ln =1)\n",
    "pdf.cell(w = 100, h = 40, txt = \"Period: \", border = 1)\n",
    "pdf.cell(w = 150, h = 40, txt = \"March 2021 \", border = 1, ln =1)\n",
    "\n",
    "pdf.output('arash.pdf')\n"
   ]
  },
  {
   "cell_type": "code",
   "execution_count": null,
   "id": "66b6c716",
   "metadata": {},
   "outputs": [],
   "source": []
  }
 ],
 "metadata": {
  "kernelspec": {
   "display_name": "base",
   "language": "python",
   "name": "python3"
  },
  "language_info": {
   "codemirror_mode": {
    "name": "ipython",
    "version": 3
   },
   "file_extension": ".py",
   "mimetype": "text/x-python",
   "name": "python",
   "nbconvert_exporter": "python",
   "pygments_lexer": "ipython3",
   "version": "3.10.10"
  }
 },
 "nbformat": 4,
 "nbformat_minor": 5
}
