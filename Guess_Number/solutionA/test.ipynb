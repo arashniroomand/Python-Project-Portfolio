{
 "cells": [
  {
   "cell_type": "code",
   "execution_count": 1,
   "metadata": {},
   "outputs": [],
   "source": [
    "import random \n",
    "\n",
    "number = random.randint(1,100)\n"
   ]
  },
  {
   "cell_type": "code",
   "execution_count": 11,
   "metadata": {},
   "outputs": [],
   "source": [
    "user_num = input(\"Enter the number between 1 and 100: \")"
   ]
  },
  {
   "cell_type": "markdown",
   "metadata": {},
   "source": [
    "- 1 < user_guess < 100\n",
    "- should be int\n",
    "- non digit"
   ]
  },
  {
   "cell_type": "markdown",
   "metadata": {},
   "source": [
    "so in coding now i set the statement for these situations"
   ]
  },
  {
   "cell_type": "code",
   "execution_count": 8,
   "metadata": {},
   "outputs": [],
   "source": [
    "def validate_input(user,score):\n",
    "    if not user.isdigit():\n",
    "        print(\"Invalid input . please try again\")\n",
    "        return False\n",
    "\n",
    "    user = int(user)\n",
    "    if user > 100 or user < 1:\n",
    "        print(\"Your guess is out of range! please try again.\")\n",
    "        score -= 5\n",
    "        print(f\"Your score is {score}!\")\n",
    "        return False\n",
    "    return True"
   ]
  },
  {
   "cell_type": "code",
   "execution_count": 11,
   "metadata": {},
   "outputs": [
    {
     "name": "stdout",
     "output_type": "stream",
     "text": [
      "Your guess is too high. Please try again. \n",
      "Your guess is too high. Please try again. \n",
      "Your guess is out of range! please try again.\n",
      "Your score is 75!\n",
      "Your guess is out of range! please try again.\n",
      "Your score is 75!\n",
      "Your guess is out of range! please try again.\n",
      "Your score is 75!\n",
      "Your guess is out of range! please try again.\n",
      "Your score is 75!\n",
      "Your guess is too low. Please try again. \n",
      "Your guess is out of range! please try again.\n",
      "Your score is 65!\n",
      "Invalid input . please try again\n",
      "Thanks for choosing our platfrom to play. bye!\n"
     ]
    }
   ],
   "source": [
    "score = 100\n",
    "\n",
    "while True:\n",
    "    user_guess =input(\"Enter a number between 1 and 100: \")\n",
    "    if user_guess == 'q':\n",
    "        print(\"Thanks for choosing our platfrom to play. bye!\")\n",
    "        break\n",
    "    \n",
    "    if not validate_input(user_guess,score):\n",
    "        continue\n",
    "    user_guess = int(user_guess)\n",
    "    if user_guess > number:\n",
    "        print(\"Your guess is too high. Please try again. \")\n",
    "    elif user_guess < number:\n",
    "        print(\"Your guess is too low. Please try again. \")\n",
    "    else:\n",
    "        print(\"Congratulations! You guessed the correct number! \")\n",
    "        print(f\"Your score is {score}!\")\n",
    "        break\n",
    "    score -= 10\n",
    "    score = max(score,0)\n",
    "    \n",
    "            "
   ]
  },
  {
   "cell_type": "code",
   "execution_count": 6,
   "metadata": {},
   "outputs": [
    {
     "name": "stdout",
     "output_type": "stream",
     "text": [
      "+--------------------------------------+\n",
      "|                                      |\n",
      "|          Welcome to the Game         |\n",
      "|                                      |\n",
      "|                                      |\n",
      "|--------------------------------------|\n",
      "You entered: 1\n"
     ]
    }
   ],
   "source": [
    "def display_menu():\n",
    "    print(\"+\" + \"-\" * 38 + \"+\")\n",
    "    print(\"|\" + \" \" * 38 + \"|\")\n",
    "    print(\"|\" + \" \" * 10+ \"Welcome to the Game\" + \" \" * 9+ \"|\")\n",
    "    print(\"|\" + \" \" * 38 + \"|\")\n",
    "    number = input(\"|\" + \" \" * 12 + \"Enter a number between 1 and 100: \")\n",
    "    print(\"|\" + \" \" * 38 + \"|\")\n",
    "    print(\"|\" + \"-\" * 38 + \"|\")\n",
    "    return number\n",
    "\n",
    "# Example usage:\n",
    "user_input = display_menu()\n",
    "print(\"You entered:\", user_input)"
   ]
  },
  {
   "cell_type": "code",
   "execution_count": 2,
   "metadata": {},
   "outputs": [],
   "source": [
    "import sys"
   ]
  },
  {
   "cell_type": "code",
   "execution_count": 3,
   "metadata": {},
   "outputs": [
    {
     "data": {
      "text/plain": [
       "['/mnt/c/users/arash/Onedrive/Desktop/python/HEJAZI_PYTHON/Project_python/Guess_Number/solutionA',\n",
       " '/usr/lib/python310.zip',\n",
       " '/usr/lib/python3.10',\n",
       " '/usr/lib/python3.10/lib-dynload',\n",
       " '',\n",
       " '/home/arash/.local/lib/python3.10/site-packages',\n",
       " '/usr/local/lib/python3.10/dist-packages',\n",
       " '/usr/lib/python3/dist-packages']"
      ]
     },
     "execution_count": 3,
     "metadata": {},
     "output_type": "execute_result"
    }
   ],
   "source": [
    "sys.path"
   ]
  },
  {
   "cell_type": "code",
   "execution_count": null,
   "metadata": {},
   "outputs": [],
   "source": []
  }
 ],
 "metadata": {
  "kernelspec": {
   "display_name": "Python 3",
   "language": "python",
   "name": "python3"
  },
  "language_info": {
   "codemirror_mode": {
    "name": "ipython",
    "version": 3
   },
   "file_extension": ".py",
   "mimetype": "text/x-python",
   "name": "python",
   "nbconvert_exporter": "python",
   "pygments_lexer": "ipython3",
   "version": "3.10.12"
  }
 },
 "nbformat": 4,
 "nbformat_minor": 2
}
