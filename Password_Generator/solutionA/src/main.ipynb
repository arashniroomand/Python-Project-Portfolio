{
 "cells": [
  {
   "cell_type": "markdown",
   "metadata": {},
   "source": [
    "- Parent : PasswordGenerator\n",
    "    - Abstract\n",
    "    - Methods : init , generator\n",
    "- RandomPasswordGenerator\n",
    "- MemorablePasswordGenerator\n",
    "- PinGenerator"
   ]
  },
  {
   "cell_type": "code",
   "execution_count": 2,
   "metadata": {},
   "outputs": [],
   "source": [
    "from abc import ABC , abstractmethod\n",
    "\n",
    "class PasswordGenerator(ABC):\n",
    "    @abstractmethod\n",
    "    def generator(self):\n",
    "        pass"
   ]
  },
  {
   "cell_type": "code",
   "execution_count": 9,
   "metadata": {},
   "outputs": [],
   "source": [
    "import random \n",
    "import string\n",
    "\n",
    "\n",
    "class PinGenerator(PasswordGenerator):\n",
    "    def __init__(self,length: int):\n",
    "        self.lenght = length\n",
    "        \n",
    "    def generator(self):\n",
    "        return ''.join([random.choice(string.digits) for _ in range(8)])\n",
    "\n",
    "        \n",
    "    "
   ]
  },
  {
   "cell_type": "code",
   "execution_count": 5,
   "metadata": {},
   "outputs": [
    {
     "name": "stdout",
     "output_type": "stream",
     "text": [
      "hi\n"
     ]
    }
   ],
   "source": [
    "password_pin_generator = PinGenerator()\n",
    "password_pin_generator.generator()"
   ]
  },
  {
   "cell_type": "markdown",
   "metadata": {},
   "source": [
    "For random password we should use string methods to generate."
   ]
  },
  {
   "cell_type": "code",
   "execution_count": 11,
   "metadata": {},
   "outputs": [
    {
     "name": "stdout",
     "output_type": "stream",
     "text": [
      "abcdefghijklmnopqrstuvwxyzABCDEFGHIJKLMNOPQRSTUVWXYZ0123456789!\"#$%&'()*+,-./:;<=>?@[\\]^_`{|}~\n"
     ]
    }
   ],
   "source": [
    "class RandomPasswordGenerator(PasswordGenerator):\n",
    "    def __init__(self,length: int = 8,include_numbers = False,include_symbols = False):\n",
    "        self.length = length\n",
    "        self.include_numbers = include_numbers\n",
    "        self.include_symbols = include_symbols\n",
    "        self.characters = string.ascii_letters\n",
    "        if self.include_numbers:\n",
    "            self.characters += string.digits\n",
    "        if self.include_symbols:\n",
    "            self.characters += string.punctuation\n",
    "        \n",
    "        print(self.characters)\n",
    "    \n",
    "    \n",
    "    def generator(self):\n",
    "        return ''.join([random.choice(self.characters) for _ in range(self.lenght)])\n",
    "        \n",
    "        \n",
    "random_num = RandomPasswordGenerator(length = 10,include_numbers = True,include_symbols = True)\n",
    "\n",
    "\n",
    "\n",
    "\n"
   ]
  },
  {
   "cell_type": "code",
   "execution_count": 27,
   "metadata": {},
   "outputs": [
    {
     "name": "stdout",
     "output_type": "stream",
     "text": [
      "hot_ARASH_arash_SEXY\n"
     ]
    }
   ],
   "source": [
    "class MemorablePassword(PasswordGenerator):\n",
    "    def __init__(\n",
    "        self,\n",
    "        num_of_words,\n",
    "        spectator = '_',\n",
    "        upper_case = True,\n",
    "        vocabulary = None\n",
    "        ):\n",
    "        if vocabulary is None:\n",
    "            self.vocabulary = ['arash','sexy','hot']\n",
    "        self.vocabulary = vocabulary\n",
    "        self.num_of_words = num_of_words\n",
    "        self.spectator = spectator\n",
    "        self.upper_case = upper_case\n",
    "        \n",
    "    def generator(self):\n",
    "        temp = ''\n",
    "        for _ in range(self.num_of_words):\n",
    "            chance = random.choice([True, False])\n",
    "            if chance:\n",
    "                temp += random.choice(self.vocabulary).upper() + self.spectator\n",
    "            else:\n",
    "                temp += random.choice(self.vocabulary).lower() + self.spectator\n",
    "                \n",
    "        password = temp[:-1]\n",
    "        return password\n",
    "\n",
    "        \n",
    "    \n",
    "    \n",
    "\n",
    "password = MemorablePassword(num_of_words = 4, spectator = '_', upper_case = True)\n",
    "\n",
    "print(password.generator())\n",
    "    \n",
    "    "
   ]
  },
  {
   "cell_type": "code",
   "execution_count": null,
   "metadata": {},
   "outputs": [],
   "source": []
  },
  {
   "cell_type": "code",
   "execution_count": null,
   "metadata": {},
   "outputs": [],
   "source": []
  }
 ],
 "metadata": {
  "kernelspec": {
   "display_name": "Python 3",
   "language": "python",
   "name": "python3"
  },
  "language_info": {
   "codemirror_mode": {
    "name": "ipython",
    "version": 3
   },
   "file_extension": ".py",
   "mimetype": "text/x-python",
   "name": "python",
   "nbconvert_exporter": "python",
   "pygments_lexer": "ipython3",
   "version": "3.11.0"
  }
 },
 "nbformat": 4,
 "nbformat_minor": 2
}
