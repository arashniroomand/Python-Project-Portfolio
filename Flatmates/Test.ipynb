{
 "cells": [
  {
   "cell_type": "code",
   "execution_count": 1,
   "id": "aa16e03e",
   "metadata": {},
   "outputs": [],
   "source": [
    "class Bill:\n",
    "    \"\"\"\n",
    "    Object that contains data about a bill\n",
    "    \"\"\"\n",
    "    def __init__(self, amount, period):\n",
    "        self.amount = amount\n",
    "        self.period = period"
   ]
  },
  {
   "cell_type": "code",
   "execution_count": 9,
   "id": "fac0ac38",
   "metadata": {},
   "outputs": [],
   "source": [
    "class Flatmate:\n",
    "    \"\"\"\n",
    "    Creates a flatmate person who lives in a flat\n",
    "    and pays a share of the bill\n",
    "    \"\"\"\n",
    "    def __init__(self, name, days_in_house):\n",
    "        self.name = name\n",
    "        self.days_in_house = days_in_house\n",
    "        \n",
    "    def pays(self, bill):\n",
    "        return bill.amount // 10\n",
    "    \n",
    "    "
   ]
  },
  {
   "cell_type": "code",
   "execution_count": 10,
   "id": "7a73df2c",
   "metadata": {},
   "outputs": [],
   "source": [
    "class PdfReport:\n",
    "    \"\"\"\n",
    "    Creates a pdf file that write a report of the deal\n",
    "    \"\"\"\n",
    "    \n",
    "    def __init(self, filename):\n",
    "        self.filename = filename\n",
    "        \n",
    "    def generate(self, flatmate1, flatmate2, bill):\n",
    "        pass"
   ]
  },
  {
   "cell_type": "code",
   "execution_count": 8,
   "id": "eb99bb9d",
   "metadata": {},
   "outputs": [
    {
     "name": "stdout",
     "output_type": "stream",
     "text": [
      "12.0\n"
     ]
    }
   ],
   "source": [
    "bill = Bill(120, 'March 21')\n",
    "arash = Flatmate(\"arash\", 25)\n",
    "shiva = Flatmate(\"shiva\", 20)\n",
    "print(arash.pays(bill))\n",
    "\n"
   ]
  },
  {
   "cell_type": "code",
   "execution_count": null,
   "id": "fe08bc7f",
   "metadata": {},
   "outputs": [],
   "source": []
  }
 ],
 "metadata": {
  "kernelspec": {
   "display_name": "base",
   "language": "python",
   "name": "python3"
  },
  "language_info": {
   "codemirror_mode": {
    "name": "ipython",
    "version": 3
   },
   "file_extension": ".py",
   "mimetype": "text/x-python",
   "name": "python",
   "nbconvert_exporter": "python",
   "pygments_lexer": "ipython3",
   "version": "3.10.10"
  }
 },
 "nbformat": 4,
 "nbformat_minor": 5
}
