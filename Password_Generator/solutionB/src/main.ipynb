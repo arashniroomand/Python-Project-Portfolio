{
 "cells": [
  {
   "cell_type": "markdown",
   "metadata": {},
   "source": [
    "- generate random password by digit\n",
    "- random password by words\n",
    "- random password by both digit and words"
   ]
  },
  {
   "cell_type": "code",
   "execution_count": 3,
   "metadata": {},
   "outputs": [
    {
     "name": "stdout",
     "output_type": "stream",
     "text": [
      "7nnwuEc7\n"
     ]
    }
   ],
   "source": [
    "import string \n",
    "import random\n",
    "\n",
    "\n",
    "def generate_random_password(lenght = 8, include_numbers = False, include_symbols = False):\n",
    "    \"\"\"\n",
    "    Generate a random password using the specified options.\n",
    "    :param lenght: The length of the password.\n",
    "    :param include_numbers: Whether to include numbers in the password.\n",
    "    :param include_symbols: Whether to include symbols in the password.\n",
    "    :return: The generated password.\n",
    "    \"\"\"\n",
    "    if include_numbers:\n",
    "        character = string.ascii_letters + string.digits\n",
    "    elif include_symbols:\n",
    "         character = string.ascii_letters + string.punctuation\n",
    "    else: \n",
    "        character = string.ascii_letters\n",
    "    \n",
    "    return ''.join([random.choice(character) for _ in range(lenght)])\n",
    "\n",
    "\n",
    "\n",
    "sample1 = generate_random_password(8,True,True)\n",
    "print(sample1)\n",
    "    \n",
    "  "
   ]
  },
  {
   "cell_type": "code",
   "execution_count": 9,
   "metadata": {},
   "outputs": [
    {
     "name": "stderr",
     "output_type": "stream",
     "text": [
      "[nltk_data] Downloading package words to\n",
      "[nltk_data]     C:\\Users\\arash\\AppData\\Roaming\\nltk_data...\n",
      "[nltk_data]   Package words is already up-to-date!\n"
     ]
    },
    {
     "data": {
      "text/plain": [
       "'Greenstone--Moldboard--Sovietize--Unilinear--Provitamin--Ordinate--Cosmopolis--Anachronistic--Rare'"
      ]
     },
     "execution_count": 9,
     "metadata": {},
     "output_type": "execute_result"
    }
   ],
   "source": [
    "import nltk\n",
    "import random\n",
    "nltk.download('words')\n",
    "\n",
    "def generate_memorable_password(\n",
    "    no_words,\n",
    "    separator = '--',\n",
    "    capitalzation: bool = False,\n",
    "    vocabulary = None\n",
    "    ):\n",
    "    \n",
    "    if vocabulary is None:\n",
    "        vocabulary = nltk.corpus.words.words()\n",
    "        \n",
    "    if capitalzation:\n",
    "        return separator.join([random.choice(vocabulary).capitalize() for _ in range(no_words)])\n",
    "    else:\n",
    "        return separator.join([random.choice(vocabulary) for _ in range(no_words)])\n",
    "\n",
    "        \n",
    "\n",
    "\n",
    "\n",
    "\n",
    "generate_memorable_password(9,capitalzation= True)\n",
    "        \n",
    "    \n",
    "    "
   ]
  },
  {
   "cell_type": "code",
   "execution_count": 13,
   "metadata": {},
   "outputs": [
    {
     "data": {
      "text/plain": [
       "'0628'"
      ]
     },
     "execution_count": 13,
     "metadata": {},
     "output_type": "execute_result"
    }
   ],
   "source": [
    "import string\n",
    "\n",
    "def generate_pin_password(lenght = 4):\n",
    "    return ''.join([random.choice(string.digits) for _ in range(lenght)])\n",
    "\n",
    "generate_pin_password()\n"
   ]
  },
  {
   "cell_type": "code",
   "execution_count": null,
   "metadata": {},
   "outputs": [],
   "source": []
  }
 ],
 "metadata": {
  "kernelspec": {
   "display_name": "Python 3",
   "language": "python",
   "name": "python3"
  },
  "language_info": {
   "codemirror_mode": {
    "name": "ipython",
    "version": 3
   },
   "file_extension": ".py",
   "mimetype": "text/x-python",
   "name": "python",
   "nbconvert_exporter": "python",
   "pygments_lexer": "ipython3",
   "version": "3.10.13"
  }
 },
 "nbformat": 4,
 "nbformat_minor": 2
}
