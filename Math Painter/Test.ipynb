{
 "cells": [
  {
   "cell_type": "code",
   "execution_count": null,
   "id": "fa04d465",
   "metadata": {},
   "outputs": [],
   "source": [
    "class Canvas:\n",
    "    def __init__(self, a, b, color):\n",
    "        self.a = a\n",
    "        self.b = b\n",
    "        self.color = color\n",
    "\n",
    "    def make(self):\n",
    "        pass\n",
    "\n",
    "class Rectangle:\n",
    "    def __init__(self, x, y, a, b, color):\n",
    "        self.x = x\n",
    "        self.y = y\n",
    "        self.a = a\n",
    "        self.b = b\n",
    "        self.color = color\n",
    "        \n",
    "    def draw(self, canvas):\n",
    "        pass\n",
    "    \n",
    "\n",
    "class Square:\n",
    "    def __init__(self, x, y, a, color):\n",
    "        self.a = a\n",
    "        self.y = y\n",
    "        self.x = x\n",
    "        self.color = color\n",
    "        \n",
    "    def draw(self):\n",
    "        pass\n",
    "    \n",
    "    def make_pointer(self):\n",
    "        pass"
   ]
  },
  {
   "cell_type": "code",
   "execution_count": null,
   "id": "d4778ce4",
   "metadata": {},
   "outputs": [],
   "source": []
  }
 ],
 "metadata": {
  "kernelspec": {
   "display_name": "base",
   "language": "python",
   "name": "python3"
  },
  "language_info": {
   "name": "python",
   "version": "3.11.3"
  }
 },
 "nbformat": 4,
 "nbformat_minor": 5
}
